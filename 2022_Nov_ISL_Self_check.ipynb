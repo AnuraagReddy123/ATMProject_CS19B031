{
  "nbformat": 4,
  "nbformat_minor": 0,
  "metadata": {
    "colab": {
      "provenance": [],
      "include_colab_link": true
    },
    "kernelspec": {
      "name": "python3",
      "display_name": "Python 3"
    },
    "language_info": {
      "name": "python"
    }
  },
  "cells": [
    {
      "cell_type": "markdown",
      "metadata": {
        "id": "view-in-github",
        "colab_type": "text"
      },
      "source": [
        "<a href=\"https://colab.research.google.com/github/cs19b031iittp/ATMProject_CS19B031/blob/main/2022_Nov_ISL_Self_check.ipynb\" target=\"_parent\"><img src=\"https://colab.research.google.com/assets/colab-badge.svg\" alt=\"Open In Colab\"/></a>"
      ]
    },
    {
      "cell_type": "markdown",
      "source": [
        "# Examination codes"
      ],
      "metadata": {
        "id": "F0VPStFcHN0u"
      }
    },
    {
      "cell_type": "markdown",
      "source": [
        "## Part 1"
      ],
      "metadata": {
        "id": "rFYdNdFNHRSa"
      }
    },
    {
      "cell_type": "code",
      "source": [
        "import torch\n",
        "import os"
      ],
      "metadata": {
        "id": "CPJPNFZJVPfn"
      },
      "execution_count": 4,
      "outputs": []
    },
    {
      "cell_type": "code",
      "source": [
        "def test_student_part1(examplerollnum):\n",
        "\n",
        "  print ('testing student...',examplerollnum)\n",
        "\n",
        "  examplerepo = examplerollnum + 'iittp/islcourse:endsem'\n",
        "\n",
        "  entrypoints = torch.hub.list(examplerepo,force_reload=True)\n",
        "\n",
        "  print (entrypoints)\n",
        "\n",
        "  X_bl,y_bl = torch.hub.load(examplerepo,'get_data_blobs',n_points=150, force_reload=True)\n",
        "\n",
        "  X_ci, y_ci = torch.hub.load(examplerepo,'get_data_circles',n_points=150, force_reload=False)\n",
        "\n",
        "  km = torch.hub.load(examplerepo,'build_kmeans',X=X_bl, k=11, force_reload=False)\n",
        "\n",
        "  ypred_bl = torch.hub.load(examplerepo,'assign_kmeans',km=km,X=X_bl, force_reload=False)\n",
        "  ypred_ci = torch.hub.load(examplerepo,'assign_kmeans',km=km,X=X_ci, force_reload=False)\n",
        "\n",
        "  h,c,v = torch.hub.load(examplerepo,'compare_clusterings',ypred_1=ypred_bl,ypred_2=ypred_ci, force_reload=False)\n",
        "\n",
        "  return h,c,v"
      ],
      "metadata": {
        "id": "ttdRPzWKHQb9"
      },
      "execution_count": 9,
      "outputs": []
    },
    {
      "cell_type": "code",
      "source": [
        "test_student_part1('cs19b031')"
      ],
      "metadata": {
        "id": "YRMzv9BUUwpO",
        "outputId": "29fca273-d1e7-4a17-9451-37f5acfa02de",
        "colab": {
          "base_uri": "https://localhost:8080/"
        }
      },
      "execution_count": 10,
      "outputs": [
        {
          "output_type": "stream",
          "name": "stdout",
          "text": [
            "testing student... cs19b031\n"
          ]
        },
        {
          "output_type": "execute_result",
          "data": {
            "text/plain": [
              "(0.0, 1.0, 0.0)"
            ]
          },
          "metadata": {},
          "execution_count": 10
        }
      ]
    },
    {
      "cell_type": "markdown",
      "source": [
        "## Part 2"
      ],
      "metadata": {
        "id": "6tkXq9zeHS1A"
      }
    },
    {
      "cell_type": "code",
      "source": [
        "from sklearn.model_selection import train_test_split\n",
        "\n",
        "def test_student_part2A(examplerollnum):\n",
        "\n",
        "  print ('testing student...',examplerollnum)\n",
        "\n",
        "  examplerepo = examplerollnum + 'iittp/islcourse:endsem'\n",
        "\n",
        "  entrypoints = torch.hub.list(examplerepo,force_reload=True)\n",
        "\n",
        "  print (entrypoints)\n",
        "\n",
        "  X,y = torch.hub.load(examplerepo,'get_data_mnist', force_reload=True)\n",
        "\n",
        "  Xtrain,Xtest,ytrain,ytest = train_test_split(X,y,test_size=0.3)\n",
        "\n",
        "  clf_lr = torch.hub.load(examplerepo,'build_lr_model',X=Xtrain,y=ytrain, force_reload=True)\n",
        "\n",
        "  clf_rf = torch.hub.load(examplerepo,'build_rf_model',X=Xtrain,y=ytrain, force_reload=True)\n",
        "\n",
        "  a,p,r,f1,auc = torch.hub.load(examplerepo,'get_metrics',model=clf_lr,X=Xtest,y=ytest, force_reload=True)\n",
        "\n",
        "  print ('lr',a,p,r,f1,auc)\n",
        "\n",
        "  a,p,r,f1,auc = torch.hub.load(examplerepo,'get_metrics',model=clf_rf,X=Xtest,y=ytest, force_reload=True)\n",
        "\n",
        "  print ('rf',a,p,r,f1,auc)\n",
        "\n"
      ],
      "metadata": {
        "id": "AYFKzo-rHWBJ"
      },
      "execution_count": null,
      "outputs": []
    },
    {
      "cell_type": "code",
      "source": [
        "def test_student_part2B(examplerollnum):\n",
        "\n",
        "  print ('testing student...',examplerollnum)\n",
        "\n",
        "  examplerepo = examplerollnum + 'iittp/islcourse:endsem'\n",
        "\n",
        "  entrypoints = torch.hub.list(examplerepo,force_reload=True)\n",
        "\n",
        "  print (entrypoints)\n",
        "\n",
        "  X,y = torch.hub.load(examplerepo,'get_data_mnist', force_reload=True)\n",
        "\n",
        "  Xtrain,Xtest,ytrain,ytest = train_test_split(X,y,test_size=0.3)\n",
        "\n",
        "  paramgrid_lr = torch.hub.load(examplerepo,'get_paramgrid_lr', force_reload=False)\n",
        "\n",
        "  paramgrid_rf = torch.hub.load(examplerepo,'get_paramgrid_rf', force_reload=False)\n",
        "\n",
        "  clf_lr = LogisticRegression()\n",
        "  clf_rf = RandomForestClassifier()\n",
        "\n",
        "  top_scores = torch.hub.load(examplerepo,'perform_gridsearch_cv_multimetric',model=clf_lr,param_grid=paramgrid_lr,cv=3,X=Xtrain,y=ytrain,metrics=['roc_auc','accuracy'])\n",
        "\n",
        "  print (top_scores)\n",
        "\n",
        "  top_scores = torch.hub.load(examplerepo,'perform_gridsearch_cv_multimetric',model=clf_rf,param_grid=paramgrid_rf,cv=3,X=Xtrain,y=ytrain,metrics=['precision','roc_auc','accuracy'])\n",
        "\n",
        "  print (top_scores)\n"
      ],
      "metadata": {
        "id": "LhtMPKEWMJz2"
      },
      "execution_count": null,
      "outputs": []
    },
    {
      "cell_type": "markdown",
      "source": [
        "## Part 3"
      ],
      "metadata": {
        "id": "_MszMhZyHS_C"
      }
    },
    {
      "cell_type": "code",
      "source": [
        "def test_student_part3(examplerollnum):\n",
        "\n",
        "  print ('testing student...',examplerollnum)\n",
        "\n",
        "  examplerepo = examplerollnum + 'iittp/islcourse:endsem'\n",
        "\n",
        "  entrypoints = torch.hub.list(examplerepo,force_reload=True)\n",
        "\n",
        "  print (entrypoints)\n",
        "\n",
        "  X,y = torch.hub.load(examplerepo,'get_mnist_tensor', force_reload=True)\n",
        "\n",
        "  Xtrain,Xtest,ytrain,ytest = train_test_split(X,y,test_size=0.3)\n",
        "\n",
        "  mynn1 = torch.hub.load(examplerepo,'get_mynn', inp_dim=64, hid_dim=10, num_classes=10, force_reload=True)\n",
        "\n",
        "  idx = 5 #some index\n",
        "  a0 = X[idx]\n",
        "  b0 = y[idx]\n",
        "\n",
        "  lval = torch.hub.load(examplerepo,'get_loss_on_single_point', mynn=mynn1, x0=a0,y0=b0, force_reload=True)\n",
        "\n",
        "  print (lval)\n",
        "  lval.backward()\n",
        "\n",
        "  mynn2 = torch.hub.load(examplerepo,'train_combined_encdec_predictor', mynn=mynn1, X=Xtrain,y=ytrain,epochs=13, force_reload=True)\n",
        "\n",
        "  lval = torch.hub.load(examplerepo,'get_loss_on_single_point', mynn=mynn1, x0=a0,y0=b0, force_reload=True)\n",
        "\n",
        "  print (lval)\n"
      ],
      "metadata": {
        "id": "tRdl6MaAHWom"
      },
      "execution_count": null,
      "outputs": []
    }
  ]
}